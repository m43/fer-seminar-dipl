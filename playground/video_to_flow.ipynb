{
  "nbformat": 4,
  "nbformat_minor": 0,
  "metadata": {
    "colab": {
      "name": "video_to_flow.ipynb",
      "provenance": [],
      "collapsed_sections": [
        "rG4V5sklqjja",
        "Gu2UEZ6DKLVg",
        "x8fwNln6KQor"
      ]
    },
    "kernelspec": {
      "name": "python3",
      "display_name": "Python 3"
    },
    "language_info": {
      "name": "python"
    },
    "accelerator": "GPU"
  },
  "cells": [
    {
      "cell_type": "markdown",
      "metadata": {
        "id": "rG4V5sklqjja"
      },
      "source": [
        "## SETUP"
      ]
    },
    {
      "cell_type": "code",
      "metadata": {
        "colab": {
          "base_uri": "https://localhost:8080/"
        },
        "id": "7sQ3r1DRmUxD",
        "outputId": "a718142e-e149-4791-a092-6f4fe71c119b"
      },
      "source": [
        "!nvidia-smi\n",
        "!/usr/local/cuda/bin/nvcc --version"
      ],
      "execution_count": null,
      "outputs": [
        {
          "output_type": "stream",
          "text": [
            "Sun May 30 22:14:43 2021       \n",
            "+-----------------------------------------------------------------------------+\n",
            "| NVIDIA-SMI 465.19.01    Driver Version: 460.32.03    CUDA Version: 11.2     |\n",
            "|-------------------------------+----------------------+----------------------+\n",
            "| GPU  Name        Persistence-M| Bus-Id        Disp.A | Volatile Uncorr. ECC |\n",
            "| Fan  Temp  Perf  Pwr:Usage/Cap|         Memory-Usage | GPU-Util  Compute M. |\n",
            "|                               |                      |               MIG M. |\n",
            "|===============================+======================+======================|\n",
            "|   0  Tesla T4            Off  | 00000000:00:04.0 Off |                    0 |\n",
            "| N/A   40C    P8    10W /  70W |      0MiB / 15109MiB |      0%      Default |\n",
            "|                               |                      |                  N/A |\n",
            "+-------------------------------+----------------------+----------------------+\n",
            "                                                                               \n",
            "+-----------------------------------------------------------------------------+\n",
            "| Processes:                                                                  |\n",
            "|  GPU   GI   CI        PID   Type   Process name                  GPU Memory |\n",
            "|        ID   ID                                                   Usage      |\n",
            "|=============================================================================|\n",
            "|  No running processes found                                                 |\n",
            "+-----------------------------------------------------------------------------+\n",
            "nvcc: NVIDIA (R) Cuda compiler driver\n",
            "Copyright (c) 2005-2020 NVIDIA Corporation\n",
            "Built on Wed_Jul_22_19:09:09_PDT_2020\n",
            "Cuda compilation tools, release 11.0, V11.0.221\n",
            "Build cuda_11.0_bu.TC445_37.28845127_0\n"
          ],
          "name": "stdout"
        }
      ]
    },
    {
      "cell_type": "code",
      "metadata": {
        "colab": {
          "base_uri": "https://localhost:8080/"
        },
        "id": "Zv78w6ZRmfdb",
        "outputId": "bfdc8e4a-8f29-462e-9165-44f2dd2199a8"
      },
      "source": [
        "from google.colab import drive\n",
        "drive.mount('/content/gdrive/')"
      ],
      "execution_count": null,
      "outputs": [
        {
          "output_type": "stream",
          "text": [
            "Mounted at /content/gdrive/\n"
          ],
          "name": "stdout"
        }
      ]
    },
    {
      "cell_type": "code",
      "metadata": {
        "id": "rRLk7D6Fmnzc"
      },
      "source": [
        "!echo \"jure\" > /content/gdrive/MyDrive/seminar/mate.txt"
      ],
      "execution_count": null,
      "outputs": []
    },
    {
      "cell_type": "markdown",
      "metadata": {
        "id": "Gu2UEZ6DKLVg"
      },
      "source": [
        "## Video to flow (v1, depreciated)"
      ]
    },
    {
      "cell_type": "code",
      "metadata": {
        "colab": {
          "base_uri": "https://localhost:8080/"
        },
        "id": "yYoBfIBZoBlF",
        "outputId": "15d5e8d9-f3f9-4a27-b39e-fc3cdec248a6"
      },
      "source": [
        "%cd /content/gdrive/MyDrive/seminar/\n",
        "!python -m playground.video_to_flow --fps 30 --n_frames=\"-1\" --device cuda --model RAFT/models/raft-sintel.pth --save_dir \"./imgs/rika\" --video_path \"./data/ulaz u crnu riku.mp4\""
      ],
      "execution_count": null,
      "outputs": [
        {
          "output_type": "stream",
          "text": [
            "/content/gdrive/MyDrive/seminar\n",
            "Traceback (most recent call last):\n",
            "  File \"/usr/lib/python3.7/runpy.py\", line 193, in _run_module_as_main\n",
            "    \"__main__\", mod_spec)\n",
            "  File \"/usr/lib/python3.7/runpy.py\", line 85, in _run_code\n",
            "    exec(code, run_globals)\n",
            "  File \"/content/gdrive/MyDrive/seminar/playground/video_to_flow.py\", line 12, in <module>\n",
            "    import cv2\n",
            "  File \"/usr/local/lib/python3.7/dist-packages/cv2/__init__.py\", line 3, in <module>\n",
            "    from .cv2 import *\n",
            "KeyboardInterrupt\n"
          ],
          "name": "stdout"
        }
      ]
    },
    {
      "cell_type": "code",
      "metadata": {
        "colab": {
          "base_uri": "https://localhost:8080/"
        },
        "id": "QASh_TLLKG02",
        "outputId": "1412386d-a49a-4a50-f599-3c563cf6d405"
      },
      "source": [
        "%cd /content/gdrive/MyDrive/seminar/\n",
        "!python -m playground.video_to_flow --fps 30 --n_frames=\"-1\" --device cuda --model RAFT/models/raft-kitti.pth --save_dir \"./imgs/rika-kitti\" --video_path \"./data/ulaz u crnu riku.mp4\""
      ],
      "execution_count": null,
      "outputs": [
        {
          "output_type": "stream",
          "text": [
            "/content/gdrive/MyDrive/seminar\n",
            "Image shape: torch.Size([1, 3, 888, 1920])\n",
            "  0% 1504/3999999999 [46:00<2043634:34:27,  1.84s/it]Traceback (most recent call last):\n",
            "  File \"/usr/lib/python3.7/runpy.py\", line 193, in _run_module_as_main\n",
            "    \"__main__\", mod_spec)\n",
            "  File \"/usr/lib/python3.7/runpy.py\", line 85, in _run_code\n",
            "    exec(code, run_globals)\n",
            "  File \"/content/gdrive/MyDrive/seminar/playground/video_to_flow.py\", line 108, in <module>\n",
            "    demo(args)\n",
            "  File \"/content/gdrive/MyDrive/seminar/playground/video_to_flow.py\", line 64, in demo\n",
            "    image2 = preprocess_cv2_image(frame)\n",
            "  File \"/content/gdrive/MyDrive/seminar/playground/video_to_flow.py\", line 30, in preprocess_cv2_image\n",
            "    img_bgr = cv2.cvtColor(img_cv2, cv2.COLOR_RGB2BGR)\n",
            "cv2.error: OpenCV(4.1.2) /io/opencv/modules/imgproc/src/color.cpp:182: error: (-215:Assertion failed) !_src.empty() in function 'cvtColor'\n",
            "\n",
            "  0% 1504/3999999999 [46:00<2039391:50:59,  1.84s/it]\n"
          ],
          "name": "stdout"
        }
      ]
    },
    {
      "cell_type": "code",
      "metadata": {
        "colab": {
          "base_uri": "https://localhost:8080/"
        },
        "id": "lFcbBmgjKHee",
        "outputId": "95d62a44-79eb-4131-d524-0d16a7ab2ba8"
      },
      "source": [
        "%cd /content/gdrive/MyDrive/seminar/\n",
        "!python -m playground.video_to_flow --fps 30 --n_frames=\"-1\" --device cuda --model RAFT/models/raft-sintel.pth --save_dir \"./imgs/ladja-sintel\" --video_path \"./data/ladja.mp4\""
      ],
      "execution_count": null,
      "outputs": [
        {
          "output_type": "stream",
          "text": [
            "/content/gdrive/MyDrive/seminar\n",
            "Image shape: torch.Size([1, 3, 1080, 1920])\n",
            "  0% 6410/3999999999 [4:01:11<2487781:01:48,  2.24s/it]"
          ],
          "name": "stdout"
        }
      ]
    },
    {
      "cell_type": "markdown",
      "metadata": {
        "id": "FRdu6r4sJ1wh"
      },
      "source": [
        "## Video to flow v2 (with WARM_START)"
      ]
    },
    {
      "cell_type": "code",
      "metadata": {
        "colab": {
          "base_uri": "https://localhost:8080/"
        },
        "id": "CZtSp_E7J5T2",
        "outputId": "ef47f13d-9ef2-49e9-eba1-98aa932f450f"
      },
      "source": [
        "%cd /content/gdrive/MyDrive/seminar/\n",
        "# !python -m playground.video_to_flow --fps 30 --device cuda --model RAFT/models/raft-kitti.pth --video True --path \"./data/ulaz u crnu riku.mp4\" --warm_start=True --save_dir \"./imgs/rika_warm\"\n",
        "!python -m playground.video_to_flow --fps 30 --device cuda --model RAFT/models/raft-kitti.pth --video 1 --path \"./data/ulaz u crnu riku.mp4\" --warm_start 1 --save_dir \"./imgs/rika-kitti-warm\""
      ],
      "execution_count": null,
      "outputs": [
        {
          "output_type": "stream",
          "text": [
            "/content/gdrive/MyDrive/seminar\n",
            "Namespace(alternate_corr=False, device='cuda', fps=30, iters=20, max_frames=-1, mixed_precision=False, model='RAFT/models/raft-kitti.pth', path='./data/ulaz u crnu riku.mp4', save_dir='./imgs/rika-kitti-warm', small=False, video=1, warm_start=1)\n",
            "Image shape: torch.Size([1, 3, 888, 1920])\n",
            "100% 1504/1506 [55:33<00:04,  2.22s/it]\n"
          ],
          "name": "stdout"
        }
      ]
    },
    {
      "cell_type": "code",
      "metadata": {
        "id": "UQQjXK4nNRg_"
      },
      "source": [
        "%cd /content/gdrive/MyDrive/seminar/\n",
        "!python -m playground.video_to_flow --fps 30 --max_frames=\"3000\" --device cuda --model RAFT/models/raft-kitti.pth --save_dir \"./imgs/ladja-sintel\" --video_path \"./data/ladja.mp4\""
      ],
      "execution_count": null,
      "outputs": []
    },
    {
      "cell_type": "code",
      "metadata": {
        "colab": {
          "base_uri": "https://localhost:8080/"
        },
        "id": "8P-EMRGWWKtn",
        "outputId": "c12ec63a-1498-46cc-ede2-1e806c843a06"
      },
      "source": [
        "%cd /content/gdrive/MyDrive/seminar/\n",
        "!python -m playground.video_to_flow --fps 30 --device cuda --model RAFT/models/raft-kitti.pth --video 1 --path \"./data/ja.avi\" --warm_start 1 --save_dir \"./imgs/ja\" --log_images 0"
      ],
      "execution_count": null,
      "outputs": [
        {
          "output_type": "stream",
          "text": [
            "/content/gdrive/MyDrive/seminar\n",
            "Namespace(alternate_corr=False, device='cuda', fps=30, iters=20, max_frames=-1, mixed_precision=False, model='RAFT/models/raft-kitti.pth', path='./data/ja.avi', save_dir='./imgs/ja', small=False, video=1, warm_start=1)\n",
            "Image shape: torch.Size([1, 3, 480, 640])\n",
            " 99% 228/230 [01:28<00:00,  2.57it/s]\n"
          ],
          "name": "stdout"
        }
      ]
    },
    {
      "cell_type": "markdown",
      "metadata": {
        "id": "x8fwNln6KQor"
      },
      "source": [
        "## Evaluation of trained models"
      ]
    },
    {
      "cell_type": "code",
      "metadata": {
        "id": "pN4V-Y2ZjNZl",
        "colab": {
          "base_uri": "https://localhost:8080/"
        },
        "outputId": "c106adbc-33a4-4df3-858e-c24f463c9b56"
      },
      "source": [
        "!wget -P /home \"http://files.is.tue.mpg.de/sintel/MPI-Sintel-complete.zip\"\n",
        "!unzip /home/MPI-Sintel-complete.zip -d /home/Sintel > /dev/null\n",
        "!ln -s /home datasets"
      ],
      "execution_count": null,
      "outputs": [
        {
          "output_type": "stream",
          "text": [
            "--2021-05-09 09:03:36--  http://files.is.tue.mpg.de/sintel/MPI-Sintel-complete.zip\n",
            "Resolving files.is.tue.mpg.de (files.is.tue.mpg.de)... 192.124.27.148\n",
            "Connecting to files.is.tue.mpg.de (files.is.tue.mpg.de)|192.124.27.148|:80... connected.\n",
            "HTTP request sent, awaiting response... 301 Moved Permanently\n",
            "Location: https://files.is.tue.mpg.de/sintel/MPI-Sintel-complete.zip [following]\n",
            "--2021-05-09 09:03:37--  https://files.is.tue.mpg.de/sintel/MPI-Sintel-complete.zip\n",
            "Connecting to files.is.tue.mpg.de (files.is.tue.mpg.de)|192.124.27.148|:443... connected.\n",
            "HTTP request sent, awaiting response... 200 OK\n",
            "Length: 5627783629 (5.2G) [application/zip]\n",
            "Saving to: ‘/home/MPI-Sintel-complete.zip’\n",
            "\n",
            "MPI-Sintel-complete 100%[===================>]   5.24G  32.1MB/s    in 2m 54s  \n",
            "\n",
            "2021-05-09 09:06:31 (30.8 MB/s) - ‘/home/MPI-Sintel-complete.zip’ saved [5627783629/5627783629]\n",
            "\n"
          ],
          "name": "stdout"
        }
      ]
    },
    {
      "cell_type": "code",
      "metadata": {
        "id": "5wTAacWWg0nP"
      },
      "source": [
        "%cd /content/gdrive/MyDrive/seminar/RAFT\n",
        "!python evaluate.py --model=models/raft-things.pth --dataset=sintel --mixed_precision"
      ],
      "execution_count": null,
      "outputs": []
    },
    {
      "cell_type": "code",
      "metadata": {
        "colab": {
          "base_uri": "https://localhost:8080/"
        },
        "id": "ts0N_FR3rwIR",
        "outputId": "962132f0-a616-41e1-a2a5-8d5cf5eb58d9"
      },
      "source": [
        "%cd /content/gdrive/MyDrive/seminar/RAFT\n",
        "!python evaluate.py --model=models/raft-things.pth --dataset=sintel"
      ],
      "execution_count": null,
      "outputs": [
        {
          "output_type": "stream",
          "text": [
            "/content/gdrive/MyDrive/seminar/RAFT\n",
            "alt_cuda_corr\t  demo.py\t      models.zip      train_standard.sh\n",
            "chairs_split.txt  download_models.sh  RAFT.png\t      Untitled.ipynb\n",
            "core\t\t  evaluate.py\t      README.md\n",
            "datasets\t  LICENSE\t      train_mixed.sh\n",
            "demo-frames\t  models\t      train.py\n",
            "tcmalloc: large alloc 1859076096 bytes == 0x55e2e356c000 @  0x7f8b13b631e7 0x7f8b0f7ef46e 0x7f8b0f83fc7b 0x7f8b0f83fd18 0x7f8b0f8e7010 0x7f8b0f8e773c 0x7f8b0f8e785d 0x55e1dbefb2f8 0x7f8b0f82cef7 0x55e1dbef8fd7 0x55e1dbef8de0 0x55e1dbf6cac2 0x55e1dbf67b0e 0x55e1dbefa77a 0x55e1dbf6ce50 0x55e1dbf67b0e 0x55e1dbe39eb0 0x55e1dbf6a1e6 0x55e1dbf67e0d 0x55e1dbefa77a 0x55e1dbf68a45 0x55e1dbf67b0e 0x55e1dbf67813 0x55e1dc031592 0x55e1dc03190d 0x55e1dc0317b6 0x55e1dc009103 0x55e1dc008dac 0x7f8b1294dbf7 0x55e1dc008c8a\n",
            "Validation (clean) EPE: 1.461604, 1px: 0.901619, 3px: 0.956027, 5px: 0.968359\n",
            "tcmalloc: large alloc 1859076096 bytes == 0x55e352a60000 @  0x7f8b13b631e7 0x7f8b0f7ef46e 0x7f8b0f83fc7b 0x7f8b0f842e83 0x7f8b0f84307b 0x7f8b0f8e4761 0x55e1dbef90e4 0x55e1dbef8de0 0x55e1dbf6d6f5 0x55e1dbf67b0e 0x55e1dbefa77a 0x55e1dbf68a45 0x55e1dbf67b0e 0x55e1dbe39e2b 0x55e1dbf6a1e6 0x55e1dbf67b0e 0x55e1dbe39eb0 0x7f8b0f82cfb3 0x55e1dbef8fd7 0x55e1dbef8de0 0x55e1dbf6cac2 0x55e1dbf67b0e 0x55e1dbefa77a 0x55e1dbf6ce50 0x55e1dbf67b0e 0x55e1dbe39eb0 0x55e1dbf6a1e6 0x55e1dbf67e0d 0x55e1dbefa77a 0x55e1dbf68a45 0x55e1dbf67b0e\n",
            "tcmalloc: large alloc 1859076096 bytes == 0x55e352a60000 @  0x7f8b13b631e7 0x7f8b0f7ef46e 0x7f8b0f83fc7b 0x7f8b0f83fd18 0x7f8b0f8e7010 0x7f8b0f8e773c 0x7f8b0f8e785d 0x55e1dbefb2f8 0x7f8b0f82cef7 0x55e1dbef8fd7 0x55e1dbef8de0 0x55e1dbf6cac2 0x55e1dbf67b0e 0x55e1dbefa77a 0x55e1dbf6ce50 0x55e1dbf67b0e 0x55e1dbe39eb0 0x55e1dbf6a1e6 0x55e1dbf67e0d 0x55e1dbefa77a 0x55e1dbf68a45 0x55e1dbf67b0e 0x55e1dbf67813 0x55e1dc031592 0x55e1dc03190d 0x55e1dc0317b6 0x55e1dc009103 0x55e1dc008dac 0x7f8b1294dbf7 0x55e1dc008c8a\n",
            "Validation (final) EPE: 2.794954, 1px: 0.852769, 3px: 0.919030, 5px: 0.938088\n",
            "tcmalloc: large alloc 1859076096 bytes == 0x55e2e356c000 @  0x7f8b13b631e7 0x7f8b0f7ef46e 0x7f8b0f83fc7b 0x7f8b0f842e83 0x7f8b0f84307b 0x7f8b0f8e4761 0x55e1dbef90e4 0x55e1dbef8de0 0x55e1dbf6d6f5 0x55e1dbf67b0e 0x55e1dbefa77a 0x55e1dbf68a45 0x55e1dbf67b0e 0x55e1dbe39e2b 0x55e1dbf6a1e6 0x55e1dbf67b0e 0x55e1dbe39eb0 0x7f8b0f82cfb3 0x55e1dbef8fd7 0x55e1dbef8de0 0x55e1dbf6cac2 0x55e1dbf67b0e 0x55e1dbefa77a 0x55e1dbf6ce50 0x55e1dbf67b0e 0x55e1dbe39eb0 0x55e1dbf6a1e6 0x55e1dbf67e0d 0x55e1dbefa77a 0x55e1dbf68a45 0x55e1dbf67b0e\n"
          ],
          "name": "stdout"
        }
      ]
    },
    {
      "cell_type": "code",
      "metadata": {
        "colab": {
          "base_uri": "https://localhost:8080/"
        },
        "id": "QPjCeihUwEOD",
        "outputId": "db16b349-dfd6-4b52-da84-eeb9b7eb5066"
      },
      "source": [
        "%cd /content/gdrive/MyDrive/seminar/RAFT\n",
        "!python evaluate.py --model=models/raft-sintel.pth --dataset=sintel"
      ],
      "execution_count": null,
      "outputs": [
        {
          "output_type": "stream",
          "text": [
            "/content/gdrive/MyDrive/seminar/RAFT\n",
            "tcmalloc: large alloc 1859076096 bytes == 0x555b02b50000 @  0x7f16b4daa1e7 0x7f16b0a3646e 0x7f16b0a86c7b 0x7f16b0a86d18 0x7f16b0b2e010 0x7f16b0b2e73c 0x7f16b0b2e85d 0x5559fc3832f8 0x7f16b0a73ef7 0x5559fc380fd7 0x5559fc380de0 0x5559fc3f4ac2 0x5559fc3efb0e 0x5559fc38277a 0x5559fc3f4e50 0x5559fc3efb0e 0x5559fc2c1eb0 0x5559fc3f21e6 0x5559fc3efe0d 0x5559fc38277a 0x5559fc3f0a45 0x5559fc3efb0e 0x5559fc3ef813 0x5559fc4b9592 0x5559fc4b990d 0x5559fc4b97b6 0x5559fc491103 0x5559fc490dac 0x7f16b3b94bf7 0x5559fc490c8a\n",
            "Validation (clean) EPE: 0.754010, 1px: 0.923343, 3px: 0.968697, 5px: 0.979266\n",
            "tcmalloc: large alloc 1859076096 bytes == 0x555b72bb0000 @  0x7f16b4daa1e7 0x7f16b0a3646e 0x7f16b0a86c7b 0x7f16b0a89e83 0x7f16b0a8a07b 0x7f16b0b2b761 0x5559fc3810e4 0x5559fc380de0 0x5559fc3f56f5 0x5559fc3efb0e 0x5559fc38277a 0x5559fc3f0a45 0x5559fc3efb0e 0x5559fc2c1e2b 0x5559fc3f21e6 0x5559fc3efb0e 0x5559fc2c1eb0 0x7f16b0a73fb3 0x5559fc380fd7 0x5559fc380de0 0x5559fc3f4ac2 0x5559fc3efb0e 0x5559fc38277a 0x5559fc3f4e50 0x5559fc3efb0e 0x5559fc2c1eb0 0x5559fc3f21e6 0x5559fc3efe0d 0x5559fc38277a 0x5559fc3f0a45 0x5559fc3efb0e\n",
            "tcmalloc: large alloc 1859076096 bytes == 0x555b72bb0000 @  0x7f16b4daa1e7 0x7f16b0a3646e 0x7f16b0a86c7b 0x7f16b0a86d18 0x7f16b0b2e010 0x7f16b0b2e73c 0x7f16b0b2e85d 0x5559fc3832f8 0x7f16b0a73ef7 0x5559fc380fd7 0x5559fc380de0 0x5559fc3f4ac2 0x5559fc3efb0e 0x5559fc38277a 0x5559fc3f4e50 0x5559fc3efb0e 0x5559fc2c1eb0 0x5559fc3f21e6 0x5559fc3efe0d 0x5559fc38277a 0x5559fc3f0a45 0x5559fc3efb0e 0x5559fc3ef813 0x5559fc4b9592 0x5559fc4b990d 0x5559fc4b97b6 0x5559fc491103 0x5559fc490dac 0x7f16b3b94bf7 0x5559fc490c8a\n",
            "Validation (final) EPE: 1.219123, 1px: 0.886190, 3px: 0.946115, 5px: 0.962800\n",
            "tcmalloc: large alloc 1859076096 bytes == 0x555b027e8000 @  0x7f16b4daa1e7 0x7f16b0a3646e 0x7f16b0a86c7b 0x7f16b0a89e83 0x7f16b0a8a07b 0x7f16b0b2b761 0x5559fc3810e4 0x5559fc380de0 0x5559fc3f56f5 0x5559fc3efb0e 0x5559fc38277a 0x5559fc3f0a45 0x5559fc3efb0e 0x5559fc2c1e2b 0x5559fc3f21e6 0x5559fc3efb0e 0x5559fc2c1eb0 0x7f16b0a73fb3 0x5559fc380fd7 0x5559fc380de0 0x5559fc3f4ac2 0x5559fc3efb0e 0x5559fc38277a 0x5559fc3f4e50 0x5559fc3efb0e 0x5559fc2c1eb0 0x5559fc3f21e6 0x5559fc3efe0d 0x5559fc38277a 0x5559fc3f0a45 0x5559fc3efb0e\n"
          ],
          "name": "stdout"
        }
      ]
    },
    {
      "cell_type": "code",
      "metadata": {
        "colab": {
          "base_uri": "https://localhost:8080/"
        },
        "id": "CviQoQBxXjs5",
        "outputId": "169d122b-e598-4212-90c9-8b5850cb2b6e"
      },
      "source": [
        "%cd /content/gdrive/MyDrive/seminar/RAFT\n",
        "!python evaluate.py --model=models/raft-sintel.pth --dataset=sintel --mixed_precision"
      ],
      "execution_count": null,
      "outputs": [
        {
          "output_type": "stream",
          "text": [
            "/content/gdrive/MyDrive/seminar/RAFT\n",
            "tcmalloc: large alloc 1859076096 bytes == 0x55d9b4240000 @  0x7f748de481e7 0x7f7489ad446e 0x7f7489b24c7b 0x7f7489b24d18 0x7f7489bcc010 0x7f7489bcc73c 0x7f7489bcc85d 0x55d8ade7bf68 0x7f7489b11ef7 0x55d8ade79c47 0x55d8ade79a50 0x55d8adeed453 0x55d8adee84ae 0x55d8ade7b3ea 0x55d8adeed7f0 0x55d8adee84ae 0x55d8addbaeb1 0x55d8adeeabb5 0x55d8adee87ad 0x55d8ade7b3ea 0x55d8adee93b5 0x55d8adee84ae 0x55d8adee81b3 0x55d8adfb2182 0x55d8adfb24fd 0x55d8adfb23a6 0x55d8adf89723 0x55d8adf893cc 0x7f748cc32bf7 0x55d8adf892aa\n",
            "Validation (clean) EPE: 0.767626, 1px: 0.923345, 3px: 0.968705, 5px: 0.979278\n",
            "tcmalloc: large alloc 1859076096 bytes == 0x55da23bc8000 @  0x7f748de481e7 0x7f7489ad446e 0x7f7489b24c7b 0x7f7489b27e83 0x7f7489b2807b 0x7f7489bc9761 0x55d8ade79d54 0x55d8ade79a50 0x55d8adeee105 0x55d8adee84ae 0x55d8ade7b3ea 0x55d8adee93b5 0x55d8adee84ae 0x55d8addbae2c 0x55d8adeeabb5 0x55d8adee84ae 0x55d8addbaeb1 0x7f7489b11fb3 0x55d8ade79c47 0x55d8ade79a50 0x55d8adeed453 0x55d8adee84ae 0x55d8ade7b3ea 0x55d8adeed7f0 0x55d8adee84ae 0x55d8addbaeb1 0x55d8adeeabb5 0x55d8adee87ad 0x55d8ade7b3ea 0x55d8adee93b5 0x55d8adee84ae\n",
            "tcmalloc: large alloc 1859076096 bytes == 0x55da23bc8000 @  0x7f748de481e7 0x7f7489ad446e 0x7f7489b24c7b 0x7f7489b24d18 0x7f7489bcc010 0x7f7489bcc73c 0x7f7489bcc85d 0x55d8ade7bf68 0x7f7489b11ef7 0x55d8ade79c47 0x55d8ade79a50 0x55d8adeed453 0x55d8adee84ae 0x55d8ade7b3ea 0x55d8adeed7f0 0x55d8adee84ae 0x55d8addbaeb1 0x55d8adeeabb5 0x55d8adee87ad 0x55d8ade7b3ea 0x55d8adee93b5 0x55d8adee84ae 0x55d8adee81b3 0x55d8adfb2182 0x55d8adfb24fd 0x55d8adfb23a6 0x55d8adf89723 0x55d8adf893cc 0x7f748cc32bf7 0x55d8adf892aa\n",
            "Validation (final) EPE: 1.218218, 1px: 0.886190, 3px: 0.946125, 5px: 0.962818\n",
            "tcmalloc: large alloc 1859076096 bytes == 0x55d9b3ed8000 @  0x7f748de481e7 0x7f7489ad446e 0x7f7489b24c7b 0x7f7489b27e83 0x7f7489b2807b 0x7f7489bc9761 0x55d8ade79d54 0x55d8ade79a50 0x55d8adeee105 0x55d8adee84ae 0x55d8ade7b3ea 0x55d8adee93b5 0x55d8adee84ae 0x55d8addbae2c 0x55d8adeeabb5 0x55d8adee84ae 0x55d8addbaeb1 0x7f7489b11fb3 0x55d8ade79c47 0x55d8ade79a50 0x55d8adeed453 0x55d8adee84ae 0x55d8ade7b3ea 0x55d8adeed7f0 0x55d8adee84ae 0x55d8addbaeb1 0x55d8adeeabb5 0x55d8adee87ad 0x55d8ade7b3ea 0x55d8adee93b5 0x55d8adee84ae\n"
          ],
          "name": "stdout"
        }
      ]
    },
    {
      "cell_type": "code",
      "metadata": {
        "colab": {
          "base_uri": "https://localhost:8080/"
        },
        "id": "aqZHEqAH50Rj",
        "outputId": "9fe42785-5ee1-4554-ce90-e0420b5da1fc"
      },
      "source": [
        "!wget -P /home \"https://s3.eu-central-1.amazonaws.com/avg-kitti/data_scene_flow.zip\"\n",
        "!unzip /home/data_scene_flow.zip -d /home/KITTI > /dev/null\n",
        "!ln -s /home datasets"
      ],
      "execution_count": null,
      "outputs": [
        {
          "output_type": "stream",
          "text": [
            "--2021-05-09 09:09:11--  https://s3.eu-central-1.amazonaws.com/avg-kitti/data_scene_flow.zip\n",
            "Resolving s3.eu-central-1.amazonaws.com (s3.eu-central-1.amazonaws.com)... 52.219.168.159\n",
            "Connecting to s3.eu-central-1.amazonaws.com (s3.eu-central-1.amazonaws.com)|52.219.168.159|:443... connected.\n",
            "HTTP request sent, awaiting response... 200 OK\n",
            "Length: 1681488619 (1.6G) [application/zip]\n",
            "Saving to: ‘/home/data_scene_flow.zip’\n",
            "\n",
            "data_scene_flow.zip 100%[===================>]   1.57G  34.0MB/s    in 48s     \n",
            "\n",
            "2021-05-09 09:10:00 (33.1 MB/s) - ‘/home/data_scene_flow.zip’ saved [1681488619/1681488619]\n",
            "\n"
          ],
          "name": "stdout"
        }
      ]
    },
    {
      "cell_type": "code",
      "metadata": {
        "id": "XTLYlt4uwNf0",
        "colab": {
          "base_uri": "https://localhost:8080/"
        },
        "outputId": "6e504e4d-5ecc-4e22-f511-78d2684a8d85"
      },
      "source": [
        "%cd /content/gdrive/MyDrive/seminar/RAFT\n",
        "!python3 evaluate.py --model=models/raft-things.pth --dataset=kitti"
      ],
      "execution_count": null,
      "outputs": [
        {
          "output_type": "stream",
          "text": [
            "/content/gdrive/MyDrive/seminar/RAFT\n",
            "Validation KITTI: 5.000202, 17.443033\n"
          ],
          "name": "stdout"
        }
      ]
    },
    {
      "cell_type": "code",
      "metadata": {
        "id": "4k7zdyEZ8D1k",
        "colab": {
          "base_uri": "https://localhost:8080/"
        },
        "outputId": "812b1490-ecbb-4fd1-9993-bb9123fe1bf1"
      },
      "source": [
        "!python --version\n",
        "!python3 --version\n",
        "# ! ps aux | grep python\n",
        "# ! kill -9 515\n",
        "# ! kill -9 449"
      ],
      "execution_count": null,
      "outputs": [
        {
          "output_type": "stream",
          "text": [
            "Python 3.7.10\n",
            "Python 3.7.10\n"
          ],
          "name": "stdout"
        }
      ]
    },
    {
      "cell_type": "code",
      "metadata": {
        "colab": {
          "base_uri": "https://localhost:8080/"
        },
        "id": "NuemC3GR6uOH",
        "outputId": "e636e61e-01e9-406b-c5f5-93429c19717a"
      },
      "source": [
        "%cd /content/gdrive/MyDrive/seminar/RAFT\n",
        "!python evaluate.py --model=models/raft-things.pth --dataset=kitti --mixed_precision"
      ],
      "execution_count": null,
      "outputs": [
        {
          "output_type": "stream",
          "text": [
            "/content/gdrive/MyDrive/seminar/RAFT\n",
            "Validation KITTI: 5.025906, 17.462255\n"
          ],
          "name": "stdout"
        }
      ]
    },
    {
      "cell_type": "code",
      "metadata": {
        "colab": {
          "base_uri": "https://localhost:8080/"
        },
        "id": "OZfANHn663OJ",
        "outputId": "c9f5cd8b-41b3-4c17-efcc-dab9f8c9f79a"
      },
      "source": [
        "%cd /content/gdrive/MyDrive/seminar/RAFT\n",
        "!python evaluate.py --model=models/raft-kitti.pth --dataset=kitti\n",
        "!python evaluate.py --model=models/raft-kitti.pth --dataset=kitti --mixed_precision"
      ],
      "execution_count": null,
      "outputs": [
        {
          "output_type": "stream",
          "text": [
            "/content/gdrive/MyDrive/seminar/RAFT\n",
            "Validation KITTI: 0.630365, 1.471080\n",
            "Validation KITTI: 0.630337, 1.471151\n"
          ],
          "name": "stdout"
        }
      ]
    }
  ]
}